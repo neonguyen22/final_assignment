{
 "cells": [
  {
   "cell_type": "markdown",
   "id": "03e74d86-ec3c-4819-ade4-674995779c6a",
   "metadata": {},
   "source": [
    "# Data Science Tools and Ecosystem"
   ]
  },
  {
   "cell_type": "markdown",
   "id": "05427cb0-bf84-437f-8f1a-6c0022ead27f",
   "metadata": {},
   "source": [
    "In this notebook, Data Science Tools and Ecosystem are summarized."
   ]
  },
  {
   "cell_type": "markdown",
   "id": "0ca35656-342b-40c4-9c19-d7840d5033fa",
   "metadata": {},
   "source": [
    "**Objectives:**\n",
    "* Python\n",
    "* R\n",
    "* SQL "
   ]
  },
  {
   "cell_type": "markdown",
   "id": "c2cee203-1a92-47bc-9e0e-844dc12229e5",
   "metadata": {},
   "source": [
    "Some of the popular languages that Data Scientists use are:\n",
    "1. Python\n",
    "2. R\n",
    "3. SQL"
   ]
  },
  {
   "cell_type": "markdown",
   "id": "16a4fbb5-4719-4ba0-88ba-a60a7a94d961",
   "metadata": {},
   "source": [
    "Some of the commonly used libraries used by Data Scientists include:\n",
    "1. TensorFlow\n",
    "2. Matplotlib\n",
    "3. Pandas"
   ]
  },
  {
   "cell_type": "markdown",
   "id": "42c17f91-0e57-4874-b4b7-736be91b4d64",
   "metadata": {
    "tags": []
   },
   "source": [
    "| Data Science Tools |\n",
    "| -------------- |\n",
    "| VScode |\n",
    "| Jupiter NoteBook |\n",
    "| RStudio |"
   ]
  },
  {
   "cell_type": "markdown",
   "id": "d209257a-f8e7-42d7-b98b-2f57fc084a3f",
   "metadata": {},
   "source": [
    "### Below are a few examples of evaluating arithmetic expressions in Python"
   ]
  },
  {
   "cell_type": "code",
   "execution_count": 3,
   "id": "295e04c0-e93b-4f52-894b-e430977b519c",
   "metadata": {
    "tags": []
   },
   "outputs": [
    {
     "data": {
      "text/plain": [
       "17"
      ]
     },
     "execution_count": 3,
     "metadata": {},
     "output_type": "execute_result"
    }
   ],
   "source": [
    "# This a simple arithmetic expression to mutiply then add integers\n",
    "(3*4)+5"
   ]
  },
  {
   "cell_type": "code",
   "execution_count": 4,
   "id": "b95c40e4-bbf2-4bf7-ab82-f82e4752b905",
   "metadata": {
    "tags": []
   },
   "outputs": [
    {
     "data": {
      "text/plain": [
       "3.3333333333333335"
      ]
     },
     "execution_count": 4,
     "metadata": {},
     "output_type": "execute_result"
    }
   ],
   "source": [
    "#  This will convert 200 minutes to hours by diving by 60\n",
    "200/60"
   ]
  },
  {
   "cell_type": "markdown",
   "id": "41723c18-b00e-4347-be37-71f928c24fe0",
   "metadata": {},
   "source": [
    "## Author\n",
    "Nguyen Thanh Hai"
   ]
  },
  {
   "cell_type": "code",
   "execution_count": null,
   "id": "b34f97d7-daba-465a-862e-ca37e880b663",
   "metadata": {},
   "outputs": [],
   "source": []
  }
 ],
 "metadata": {
  "kernelspec": {
   "display_name": "Python 3 (ipykernel)",
   "language": "python",
   "name": "python3"
  },
  "language_info": {
   "codemirror_mode": {
    "name": "ipython",
    "version": 3
   },
   "file_extension": ".py",
   "mimetype": "text/x-python",
   "name": "python",
   "nbconvert_exporter": "python",
   "pygments_lexer": "ipython3",
   "version": "3.11.5"
  }
 },
 "nbformat": 4,
 "nbformat_minor": 5
}
